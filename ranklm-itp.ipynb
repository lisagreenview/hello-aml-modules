{
 "metadata": {
  "language_info": {
   "codemirror_mode": {
    "name": "ipython",
    "version": 3
   },
   "file_extension": ".py",
   "mimetype": "text/x-python",
   "name": "python",
   "nbconvert_exporter": "python",
   "pygments_lexer": "ipython3",
   "version": "3.6.10-final"
  },
  "orig_nbformat": 2,
  "kernelspec": {
   "name": "python361064bitamlmoduleconda94216afc072640efa4ed7a053209d802",
   "display_name": "Python 3.6.10 64-bit ('amlmodule': conda)",
   "language": "python"
  }
 },
 "nbformat": 4,
 "nbformat_minor": 2,
 "cells": [
  {
   "cell_type": "code",
   "execution_count": 22,
   "metadata": {},
   "outputs": [],
   "source": [
    "from azureml.core import Workspace, Experiment, Dataset, Datastore\n",
    "from azure.ml.component import Pipeline, Component, dsl, Run"
   ]
  },
  {
   "cell_type": "code",
   "execution_count": 23,
   "metadata": {},
   "outputs": [],
   "source": [
    "subscription_id = '20d3c9e4-625d-45e1-ac8a-def90d3c4a88' \n",
    "workspace_name = 'relevance2-aml' \n",
    "resource_group = 'RSTrainEastUS_32GB-2-aml'\n",
    "\n",
    "itp_ws = Workspace.get(name=workspace_name, subscription_id=subscription_id, resource_group=resource_group)\n",
    "\n",
    "itp_compute_name=\"v100-8x-eus\""
   ]
  },
  {
   "cell_type": "code",
   "execution_count": 24,
   "metadata": {},
   "outputs": [],
   "source": [
    "# component\n",
    "\n",
    "module_spec_file_training = \"D:\\\\work\\code\\\\deeprank\\\\deeprank\\\\aml_pipeline\\\\aml_modules\\\\ranklm_training\\\\ranklm_training.component.yaml\"\n",
    "ranklm_training_module = Component.from_yaml(itp_ws, module_spec_file_training)"
   ]
  },
  {
   "cell_type": "code",
   "execution_count": 25,
   "metadata": {},
   "outputs": [
    {
     "output_type": "stream",
     "name": "stdout",
     "text": [
      "found datastore with name: adls_relevance09\n"
     ]
    }
   ],
   "source": [
    "import os, sys\n",
    "import logging\n",
    "import traceback\n",
    "\n",
    "adls_datastore_name='adls_relevance09'\n",
    "\n",
    "try:\n",
    "    adls_datastore_itp = Datastore.get(itp_ws, adls_datastore_name)\n",
    "    print(\"found datastore with name: %s\" % adls_datastore_name)\n",
    "except:\n",
    "    print(f\"please register {adls_datastore_name} datastores in your workspace\")\n"
   ]
  },
  {
   "cell_type": "code",
   "execution_count": 17,
   "metadata": {},
   "outputs": [
    {
     "output_type": "stream",
     "name": "stdout",
     "text": [
      "found ranklm_adls_train_data dataset\n",
      "found ranklm_adls_test_data dataset\n",
      "found ranklm_adls_model_path dataset\n"
     ]
    }
   ],
   "source": [
    "# dataset\n",
    "ranklm_adls_input_train_path = \"/projects/relatedpage/RankLM_data/train.tsv\"\n",
    "ranklm_adls_input_test_path = \"/projects/relatedpage/RankLM_data/test.tsv\"\n",
    "ranklm_adls_input_model_path = \"/projects/relatedpage/RankLM_model/bert_model.pth\"\n",
    "\n",
    "input_data_dict = {\n",
    "    \"ranklm_adls_train_data\": (adls_datastore_itp,ranklm_adls_input_train_path,\"ranklm data\"),\n",
    "    \"ranklm_adls_test_data\": (adls_datastore_itp,ranklm_adls_input_test_path,\"ranklm data\"),\n",
    "    \"ranklm_adls_model_path\":(adls_datastore_itp,ranklm_adls_input_model_path,\"ranklm model\"),\n",
    "}\n",
    "\n",
    "input_datasets = {}\n",
    "for name, description in input_data_dict.items():\n",
    "    if name not in itp_ws.datasets:\n",
    "        print(\"Registering {} dataset for pipeline ...\".format(name))\n",
    "        dataset = Dataset.File.from_files((description[0], description[1]))\n",
    "\n",
    "        dataset.register(\n",
    "            workspace=itp_ws,\n",
    "            name=name,\n",
    "            description=\"{}\".format(description[2]),\n",
    "            create_new_version=True,\n",
    "        )\n",
    "        print(\"{} is Registered\".format(name))\n",
    "    else:\n",
    "        print(\"found {} dataset\".format(name))\n",
    "    dataset = Dataset.get_by_name(itp_ws, name=name)\n",
    "    input_datasets[name] = dataset"
   ]
  },
  {
   "cell_type": "code",
   "execution_count": 30,
   "metadata": {},
   "outputs": [],
   "source": [
    "## Training Params\n",
    "\n",
    "config_file = \"configs/relatedpage/ranklm_v2/train.json\"\n",
    "running_mode = \"deepspeed\"\n",
    "base_model_name_or_path = \"fixtures/ranklm/RankLM_V2\"\n",
    "base_model_output_size =  768 \n",
    "training =  True \n",
    "override =  \"{entry:{batch_size_per_gpu:80}}\"\n",
    "mlflow = \"true\" "
   ]
  },
  {
   "cell_type": "code",
   "execution_count": 31,
   "metadata": {},
   "outputs": [],
   "source": [
    "# define a pipeline\n",
    "@dsl.pipeline(\n",
    "    name=\"RankLM Training on AML\",\n",
    "    description=\"RankLM training on AML ModuleSDK\",\n",
    "    default_compute_target=itp_compute_name,\n",
    ")\n",
    "def ranklm_pipeline():\n",
    "    ranklm_training_step = ranklm_training_module(\n",
    "            config_file=config_file,\n",
    "            running_mode=running_mode,\n",
    "            base_model_name_or_path=base_model_name_or_path,\n",
    "            checkpoint_path=input_datasets[\"ranklm_adls_model_path\"],\n",
    "            base_model_output_size=base_model_output_size,\n",
    "            training=training,\n",
    "            train_data_path=input_datasets[\"ranklm_adls_train_data\"],\n",
    "            test_data_path=input_datasets[\"ranklm_adls_test_data\"],\n",
    "            override=str(override),\n",
    "            mlflow=mlflow\n",
    "            )\n",
    "    ranklm_training_step.runsettings.configure(\n",
    "        target=itp_compute_name,\n",
    "    )\n",
    "    ranklm_training_step.k8srunsettings.resource_configuration.gpu_count = 4"
   ]
  },
  {
   "cell_type": "code",
   "execution_count": 32,
   "metadata": {},
   "outputs": [
    {
     "output_type": "display_data",
     "data": {
      "text/plain": "<IPython.core.display.Javascript object>",
      "application/javascript": "try {\n    require.undef(\"validate_widget\")\n\n    define('validate_widget', [\"@jupyter-widgets/base\"], function(widgets) {\n        var ValidateView = widgets.DOMWidgetView.extend({\n            render () {\n                var self = window.widget_self = this\n                var visualize_id = this.model.get('visualize_id')\n\n                if (!window._renderLock) {\n                    window._renderLock = {}\n                }\n                if (window._renderLock[visualize_id]) {\n                    if (window._renderLock[visualize_id] === 'widget') {\n                        return\n                    }\n                    else {\n                        var loadedScript = document.getElementById(`container_id_${visualize_id}_script`)\n                        if (loadedScript) {\n                            console.log('reload as widget')\n                            loadedScript.parentElement.removeChild(loadedScript)\n                        }\n                    }\n                }\n                window._renderLock[visualize_id] = \"widget\"\n                console.log(\"load as widget\", Date.now())\n\n                var lib_url = this.model.get('lib_url')\n                var graph_json = JSON.parse(this.model.get('graph_json'))\n                var env_json = JSON.parse(this.model.get('env_json'))\n                var container_id = this.model.get('container_id')\n                var is_prod = this.model.get('is_prod')\n\n                window.render_container_id = container_id\n                window.graph_json = graph_json\n                window.is_prod = is_prod\n                window.is_fallback = 0;\n                window.profiling_json = undefined\n                window.graph_json_to_compare = undefined\n                window.env_json = env_json\n                window.before_script = performance.now()\n\n                var container = document.createElement('div')\n                container.id = container_id\n                this.el.appendChild(container)\n\n                var style = document.createElement('style')\n                style.innerHTML = [\n                    \"#\", container_id, \" svg.react-dag-editor-svg-container { height: 800px; }\",\n                    \".cell-output-ipywidget-background { background: transparent !important }\"\n                ].join('')\n                this.el.appendChild(style)\n\n                this.model.on('msg:custom', dispatchMessage, this);\n\n                if (!window.__event_hub) {\n                    window.__event_hub = {}\n                }\n                if (!window.__event_hub[container_id]) {\n                    window.__event_hub[container_id] = {}\n                }\n                if (!window.__event_hub[container_id].__history) {\n                    window.__event_hub[container_id].__history = []\n                }\n\n                if (!window.__send_event) {\n                    window.__send_event = {}\n                }\n                window.__send_event[container_id] = sendMessage.bind(this)\n\n                function sendMessage(message, uid, content) {\n                    return new Promise(function (resolve) {\n                        self.model.send({\n                            message: `${message}:request`,\n                            body: {\n                                uid,\n                                content\n                            }\n                        })\n    \n                        var respMessageKey = `${message}:response`\n                        if (!window.__event_hub[container_id][respMessageKey]) {\n                            window.__event_hub[container_id][respMessageKey] = []\n                        }\n                        window.__event_hub[container_id][respMessageKey].push(callback)\n    \n                        function callback (response) {\n                            if (response.uid !== uid) {\n                                return\n                            }\n\n                            var idx = window.__event_hub[container_id][respMessageKey].indexOf(callback) \n                            window.__event_hub[container_id][respMessageKey].splice(idx, 1)\n                            \n                            resolve(response)\n                        }\n                    })\n                }\n\n                function dispatchMessage (rawMessage) {\n                    var message = rawMessage.message\n                    var body = rawMessage.body\n\n                    if (!window.__event_hub[container_id][message]) {\n                        window.__event_hub[container_id][message] = []\n                    }\n                    var listeners = window.__event_hub[container_id][message]\n                    var history = window.__event_hub[container_id].__history\n\n                    if (listeners && listeners.length) {\n                        listeners.forEach(function (cb) {\n                            try {\n                                cb(body)\n                            } catch (e) {\n                                console.error(\"Unexpected error in listener\", e)\n                            }\n                        })\n                    } else {\n                        history.push([message, body])\n                    }\n                    console.log(body)\n                }\n\n                function hideLoading () {\n                    var style = document.createElement('style')\n                    style.innerHTML = `#loading-${visualize_id} .ms-Spinner-root { display: none !important }`\n                    self.el.appendChild(style)\n                }\n\n                var script = document.createElement('script')\n                script.onload = hideLoading\n                script.async = true\n                script.src = lib_url\n                this.el.appendChild(script)\n            }\n        });\n\n        return {\n            ValidateView\n        }\n    })\n} catch (e) {\n    console.log(\"create validation widget failed\", e)\n}"
     },
     "metadata": {}
    },
    {
     "output_type": "display_data",
     "data": {
      "text/plain": "<IPython.core.display.HTML object>",
      "text/html": "\n    <div id=\"loading-ff2075aa-3f16-4825-8187-a6090fa55005\">\n        <style>\n    @keyframes css-269 {\n        0% {\n            transform: rotate(0deg);\n        }\n\n        100% {\n            transform: rotate(360deg);\n        }\n    }\n    .ms-Spinner-root {\n        display: flex;\n        flex-direction: row;\n        align-items: center;\n        justify-content: center;\n    }\n\n    .ms-Spinner-circle {\n        box-sizing: border-box;\n        animation-name: css-269;\n        animation-duration: 1.3s;\n        animation-iteration-count: infinite;\n        animation-timing-function: cubic-bezier(0.53, 0.21, 0.29, 0.67);\n        width: 28px;\n        height: 28px;\n        border-radius: 50%;\n        border-width: 1.5px;\n        border-style: solid;\n        border-color: rgb(0, 120, 212) rgb(199, 224, 244) rgb(199, 224, 244);\n        border-image: initial;\n    }\n\n    .ms-Spinner-label {\n        font-family: \"Segoe UI\", \"Segoe UI Web (West European)\", \"Segoe UI\", -apple-system, BlinkMacSystemFont, Roboto, \"Helvetica Neue\", sans-serif;\n        -webkit-font-smoothing: antialiased;\n        font-size: 12px;\n        font-weight: 400;\n        color: rgb(0, 120, 212);\n        margin-top: 0px;\n        margin-right: 0px;\n        margin-bottom: 0px;\n        margin-left: 8px;\n        text-align: center;\n    }\n</style>\n<div class=\"ms-Spinner-root\">\n    <div class=\"ms-Spinner-circle\"></div>\n    <div class=\"ms-Spinner-label\">Loading...</div>\n</div>\n    </div>\n    "
     },
     "metadata": {}
    },
    {
     "output_type": "display_data",
     "data": {
      "text/plain": "ValidateView(container_id='container_id_ff2075aa-3f16-4825-8187-a6090fa55005_widget', env_json='{\"subscription…",
      "application/vnd.jupyter.widget-view+json": {
       "version_major": 2,
       "version_minor": 0,
       "model_id": "fbfe6ba06b41438192dec9bf10a0f52c"
      }
     },
     "metadata": {}
    },
    {
     "output_type": "display_data",
     "data": {
      "text/plain": "<IPython.core.display.HTML object>",
      "text/html": "\n        <style>\n        #container_id_ff2075aa-3f16-4825-8187-a6090fa55005_script svg.react-dag-editor-svg-container {\n            height: 800px;\n        }\n        </style>\n        <div id=\"container_id_ff2075aa-3f16-4825-8187-a6090fa55005_script\"></div>\n        <script>\n            (function () {\n                if (!window._renderLock) {\n                    window._renderLock = {}\n                }\n                if (window._renderLock[\"ff2075aa-3f16-4825-8187-a6090fa55005\"]) {\n                    return\n                }\n                window._renderLock[\"ff2075aa-3f16-4825-8187-a6090fa55005\"] = \"script\"\n                console.log(\"load as script\", Date.now())\n                window.render_container_id=\"container_id_ff2075aa-3f16-4825-8187-a6090fa55005_script\";\n                window.graph_json={\"pipeline\": {\"name\": \"RankLM Training on AML\", \"data_references\": {\"2a461285-bdc3-3b77-843a-f97e75a5017b\": {\"name\": \"ranklm_adls_model_path\", \"dataset_id\": \"d831df8c-0f49-4434-8f35-0f543760bb3c\", \"saved_id\": \"1e54e42b-75eb-41ac-a77d-0abe2461a49c\"}, \"89a5e1e1-51b8-35be-9ee2-542b88a7f0fa\": {\"name\": \"ranklm_adls_train_data\", \"dataset_id\": \"c867d117-d126-478d-979b-995f769a907c\", \"saved_id\": \"6e3163e7-4612-4b2f-a041-bfbdcdeb15f8\"}, \"b2c14915-275f-35be-bac7-d6332340469e\": {\"name\": \"ranklm_adls_test_data\", \"dataset_id\": \"101d0f08-5a17-4b64-af33-7d8e306f0874\", \"saved_id\": \"29cd15a6-fd55-42a6-b320-171c4022caa5\"}}, \"steps\": {\"847ab7e1\": {\"inputs\": {\"checkpoint_path\": {\"source\": \"2a461285-bdc3-3b77-843a-f97e75a5017b\"}, \"train_data_path\": {\"source\": \"89a5e1e1-51b8-35be-9ee2-542b88a7f0fa\"}, \"test_data_path\": {\"source\": \"b2c14915-275f-35be-bac7-d6332340469e\"}}, \"outputs\": {}, \"module\": {\"id\": \"7e932178-d23d-4e5d-8596-69a2476fc6ca\", \"version\": \"0.0.1\"}, \"parameters\": {\"config_file\": \"configs/relatedpage/ranklm_v2/train.json\", \"running_mode\": \"deepspeed\", \"base_model_name_or_path\": \"fixtures/ranklm/RankLM_V2\", \"base_model_output_size\": 768, \"training\": true, \"override\": \"{entry:{batch_size_per_gpu:80}}\", \"mlflow\": \"true\"}, \"validate\": {\"error\": [], \"module_id\": \"7e932178-d23d-4e5d-8596-69a2476fc6ca\", \"module_name\": \"bingcr.deeprank.deeprank_training\", \"module_display_name\": \"deeprank_training\", \"module_version\": \"0.0.1\"}}}}, \"modules\": [{\"name\": \"bingcr.deeprank.deeprank_training\", \"display_name\": \"deeprank_training\", \"module_id\": \"7e932178-d23d-4e5d-8596-69a2476fc6ca\", \"version\": \"0.0.1\", \"structured_interface\": {\"inputs\": [{\"name\": \"checkpoint_path\", \"label\": \"checkpoint_path\", \"data_type_ids_list\": [\"AnyDirectory\"]}, {\"name\": \"train_data_path\", \"label\": \"train_data_path\", \"data_type_ids_list\": [\"AnyDirectory\"]}, {\"name\": \"test_data_path\", \"label\": \"test_data_path\", \"data_type_ids_list\": [\"AnyDirectory\"]}], \"outputs\": [{\"name\": \"output_path\", \"label\": \"output_path\", \"data_type_id\": \"AnyDirectory\"}]}}], \"datasources\": [{\"name\": \"ranklm_adls_model_path\", \"registered_id\": \"d831df8c-0f49-4434-8f35-0f543760bb3c\", \"saved_id\": \"1e54e42b-75eb-41ac-a77d-0abe2461a49c\", \"nodeId\": \"2a461285-bdc3-3b77-843a-f97e75a5017b\"}, {\"name\": \"ranklm_adls_train_data\", \"registered_id\": \"c867d117-d126-478d-979b-995f769a907c\", \"saved_id\": \"6e3163e7-4612-4b2f-a041-bfbdcdeb15f8\", \"nodeId\": \"89a5e1e1-51b8-35be-9ee2-542b88a7f0fa\"}, {\"name\": \"ranklm_adls_test_data\", \"registered_id\": \"101d0f08-5a17-4b64-af33-7d8e306f0874\", \"saved_id\": \"29cd15a6-fd55-42a6-b320-171c4022caa5\", \"nodeId\": \"b2c14915-275f-35be-bac7-d6332340469e\"}], \"subGraphInfo\": [{\"name\": \"RankLM Training on AML\", \"id\": \"2711264b-ecf7-4690-a512-774ebe3e1dd8\", \"parent_graph_id\": null, \"inputs\": [], \"outputs\": []}], \"nodeIdToSubGraphIdMapping\": {\"847ab7e1\": \"2711264b-ecf7-4690-a512-774ebe3e1dd8\"}};\n                window.graph_json_to_compare=null;\n                window.profiling_json=null;\n                window.env_json={\"subscription_id\": \"20d3c9e4-625d-45e1-ac8a-def90d3c4a88\", \"sdk_version\": \"0.1.0.26893176\", \"forward_server_url\": \"http://127.0.0.1:59780/forward\"};\n                window.is_prod=1;\n                window.is_fallback=0;\n                window.before_script=performance.now();\n                var script=document.createElement('script')\n                script.onload=hideLoading\n                script.src=\"https://yucongj.azureedge.net/libs/prod/0.1.6/index.js\"\n                document.getElementById(\"container_id_ff2075aa-3f16-4825-8187-a6090fa55005_script\").appendChild(script)\n\n                function hideLoading () {\n                    var style = document.createElement('style')\n                    style.innerHTML = \"#loading-ff2075aa-3f16-4825-8187-a6090fa55005 .ms-Spinner-root { display: none !important }\"\n                    document.getElementById(\"container_id_ff2075aa-3f16-4825-8187-a6090fa55005_script\").appendChild(style)\n                }\n            })()\n        </script>\n        \n        "
     },
     "metadata": {}
    },
    {
     "output_type": "execute_result",
     "data": {
      "text/plain": [
       "{'result': 'validation passed', 'errors': []}"
      ]
     },
     "metadata": {},
     "execution_count": 32
    }
   ],
   "source": [
    "# create a pipeline and visualize the graph\n",
    "pipeline = ranklm_pipeline()\n",
    "pipeline.validate()"
   ]
  },
  {
   "cell_type": "code",
   "execution_count": 33,
   "metadata": {},
   "outputs": [
    {
     "output_type": "stream",
     "name": "stdout",
     "text": [
      "Submitted PipelineRun 8d25e25f-cda8-42da-afaf-c20e3095b315\n",
      "Link to Azure Machine Learning Portal: https://ml.azure.com/experiments/ranklm-pipeline-ITP/runs/8d25e25f-cda8-42da-afaf-c20e3095b315?wsid=/subscriptions/20d3c9e4-625d-45e1-ac8a-def90d3c4a88/resourcegroups/RSTrainEastUS_32GB-2-aml/workspaces/relevance2-aml\n"
     ]
    },
    {
     "output_type": "execute_result",
     "data": {
      "text/plain": [
       "PipelineRun(Experiment: ranklm-pipeline-ITP,\n",
       "Id: 8d25e25f-cda8-42da-afaf-c20e3095b315,\n",
       "Type: azureml.PipelineRun,\n",
       "Status: Preparing)"
      ],
      "text/html": "<table style=\"width:100%\"><tr><th>Experiment</th><th>Id</th><th>Type</th><th>Status</th><th>Details Page</th><th>Docs Page</th></tr><tr><td>ranklm-pipeline-ITP</td><td>8d25e25f-cda8-42da-afaf-c20e3095b315</td><td>azureml.PipelineRun</td><td>Preparing</td><td><a href=\"https://ml.azure.com/experiments/ranklm-pipeline-ITP/runs/8d25e25f-cda8-42da-afaf-c20e3095b315?wsid=/subscriptions/20d3c9e4-625d-45e1-ac8a-def90d3c4a88/resourcegroups/RSTrainEastUS_32GB-2-aml/workspaces/relevance2-aml\" target=\"_blank\" rel=\"noopener\">Link to Azure Machine Learning studio</a></td><td><a href=\"https://docs.microsoft.com/en-us/python/api/azureml-core/azureml.core.run.Run?view=azure-ml-py\" target=\"_blank\" rel=\"noopener\">Link to Documentation</a></td></tr></table>"
     },
     "metadata": {},
     "execution_count": 33
    }
   ],
   "source": [
    "run = pipeline.submit(experiment_name = 'ranklm-pipeline-ITP', regenerate_outputs=False)\n",
    "run"
   ]
  },
  {
   "cell_type": "code",
   "execution_count": null,
   "metadata": {},
   "outputs": [],
   "source": []
  }
 ]
}